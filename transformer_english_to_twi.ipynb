{
  "nbformat": 4,
  "nbformat_minor": 0,
  "metadata": {
    "colab": {
      "name": "transformer_english_to_twi.ipynb",
      "provenance": [],
      "collapsed_sections": [],
      "authorship_tag": "ABX9TyN3KCQ4l6VSLVGKRzwJRP1W",
      "include_colab_link": true
    },
    "kernelspec": {
      "name": "python3",
      "display_name": "Python 3"
    },
    "language_info": {
      "name": "python"
    },
    "accelerator": "GPU"
  },
  "cells": [
    {
      "cell_type": "markdown",
      "metadata": {
        "id": "view-in-github",
        "colab_type": "text"
      },
      "source": [
        "<a href=\"https://colab.research.google.com/github/samadon1/English-to-Twi-Translator/blob/main/transformer_english_to_twi.ipynb\" target=\"_parent\"><img src=\"https://colab.research.google.com/assets/colab-badge.svg\" alt=\"Open In Colab\"/></a>"
      ]
    },
    {
      "cell_type": "markdown",
      "source": [
        "#**English-to-Twi translation with a sequence-to-sequnence Transformer**\n",
        "\n",
        "Implementing a sequence-to-sequence Transformer and training it on a machine translation task.\n",
        "\n",
        "We'll be working with the [ENGLISH-AKUAPEM TWI PARALLEL CORPUS](https://zenodo.org/record/4432117) dataset"
      ],
      "metadata": {
        "id": "o77Gicgziply"
      }
    },
    {
      "cell_type": "markdown",
      "source": [
        "##Import the necessary libraries"
      ],
      "metadata": {
        "id": "ZaiX-JD2jT2r"
      }
    },
    {
      "cell_type": "code",
      "execution_count": null,
      "metadata": {
        "id": "RpRu0eFMLfVt"
      },
      "outputs": [],
      "source": [
        "import pathlib\n",
        "import random\n",
        "import string\n",
        "import re\n",
        "import numpy as np\n",
        "import tensorflow as tf\n",
        "from tensorflow import keras\n",
        "from tensorflow.keras import layers\n",
        "from tensorflow.keras.layers import TextVectorization"
      ]
    },
    {
      "cell_type": "markdown",
      "source": [
        "##Setup"
      ],
      "metadata": {
        "id": "iUYylcWAjZYe"
      }
    },
    {
      "cell_type": "code",
      "source": [
        "!pip install gradio"
      ],
      "metadata": {
        "colab": {
          "base_uri": "https://localhost:8080/"
        },
        "id": "WAB9lar_kzFF",
        "outputId": "c5098b4e-35b5-43a0-8967-8466d88fbde1"
      },
      "execution_count": null,
      "outputs": [
        {
          "output_type": "stream",
          "name": "stdout",
          "text": [
            "Collecting gradio\n",
            "  Downloading gradio-2.9.4-py3-none-any.whl (2.9 MB)\n",
            "\u001b[K     |████████████████████████████████| 2.9 MB 4.9 MB/s \n",
            "\u001b[?25hCollecting aiohttp\n",
            "  Downloading aiohttp-3.8.1-cp37-cp37m-manylinux_2_5_x86_64.manylinux1_x86_64.manylinux_2_12_x86_64.manylinux2010_x86_64.whl (1.1 MB)\n",
            "\u001b[K     |████████████████████████████████| 1.1 MB 37.8 MB/s \n",
            "\u001b[?25hRequirement already satisfied: matplotlib in /usr/local/lib/python3.7/dist-packages (from gradio) (3.2.2)\n",
            "Collecting markdown-it-py[linkify,plugins]\n",
            "  Downloading markdown_it_py-2.1.0-py3-none-any.whl (84 kB)\n",
            "\u001b[K     |████████████████████████████████| 84 kB 2.6 MB/s \n",
            "\u001b[?25hRequirement already satisfied: pandas in /usr/local/lib/python3.7/dist-packages (from gradio) (1.3.5)\n",
            "Collecting pycryptodome\n",
            "  Downloading pycryptodome-3.14.1-cp35-abi3-manylinux2010_x86_64.whl (2.0 MB)\n",
            "\u001b[K     |████████████████████████████████| 2.0 MB 32.2 MB/s \n",
            "\u001b[?25hRequirement already satisfied: requests in /usr/local/lib/python3.7/dist-packages (from gradio) (2.23.0)\n",
            "Collecting pydub\n",
            "  Downloading pydub-0.25.1-py2.py3-none-any.whl (32 kB)\n",
            "Collecting orjson\n",
            "  Downloading orjson-3.6.8-cp37-cp37m-manylinux_2_24_x86_64.whl (253 kB)\n",
            "\u001b[K     |████████████████████████████████| 253 kB 48.0 MB/s \n",
            "\u001b[?25hCollecting uvicorn\n",
            "  Downloading uvicorn-0.17.6-py3-none-any.whl (53 kB)\n",
            "\u001b[K     |████████████████████████████████| 53 kB 1.9 MB/s \n",
            "\u001b[?25hCollecting python-multipart\n",
            "  Downloading python-multipart-0.0.5.tar.gz (32 kB)\n",
            "Collecting paramiko\n",
            "  Downloading paramiko-2.10.3-py2.py3-none-any.whl (211 kB)\n",
            "\u001b[K     |████████████████████████████████| 211 kB 45.2 MB/s \n",
            "\u001b[?25hCollecting fastapi\n",
            "  Downloading fastapi-0.75.2-py3-none-any.whl (54 kB)\n",
            "\u001b[K     |████████████████████████████████| 54 kB 2.3 MB/s \n",
            "\u001b[?25hRequirement already satisfied: numpy in /usr/local/lib/python3.7/dist-packages (from gradio) (1.21.6)\n",
            "Requirement already satisfied: pillow in /usr/local/lib/python3.7/dist-packages (from gradio) (7.1.2)\n",
            "Collecting analytics-python\n",
            "  Downloading analytics_python-1.4.0-py2.py3-none-any.whl (15 kB)\n",
            "Requirement already satisfied: Jinja2 in /usr/local/lib/python3.7/dist-packages (from gradio) (2.11.3)\n",
            "Collecting ffmpy\n",
            "  Downloading ffmpy-0.3.0.tar.gz (4.8 kB)\n",
            "Collecting asynctest==0.13.0\n",
            "  Downloading asynctest-0.13.0-py3-none-any.whl (26 kB)\n",
            "Collecting async-timeout<5.0,>=4.0.0a3\n",
            "  Downloading async_timeout-4.0.2-py3-none-any.whl (5.8 kB)\n",
            "Requirement already satisfied: charset-normalizer<3.0,>=2.0 in /usr/local/lib/python3.7/dist-packages (from aiohttp->gradio) (2.0.12)\n",
            "Collecting frozenlist>=1.1.1\n",
            "  Downloading frozenlist-1.3.0-cp37-cp37m-manylinux_2_5_x86_64.manylinux1_x86_64.manylinux_2_17_x86_64.manylinux2014_x86_64.whl (144 kB)\n",
            "\u001b[K     |████████████████████████████████| 144 kB 44.2 MB/s \n",
            "\u001b[?25hCollecting yarl<2.0,>=1.0\n",
            "  Downloading yarl-1.7.2-cp37-cp37m-manylinux_2_5_x86_64.manylinux1_x86_64.manylinux_2_12_x86_64.manylinux2010_x86_64.whl (271 kB)\n",
            "\u001b[K     |████████████████████████████████| 271 kB 47.0 MB/s \n",
            "\u001b[?25hRequirement already satisfied: attrs>=17.3.0 in /usr/local/lib/python3.7/dist-packages (from aiohttp->gradio) (21.4.0)\n",
            "Requirement already satisfied: typing-extensions>=3.7.4 in /usr/local/lib/python3.7/dist-packages (from aiohttp->gradio) (4.1.1)\n",
            "Collecting aiosignal>=1.1.2\n",
            "  Downloading aiosignal-1.2.0-py3-none-any.whl (8.2 kB)\n",
            "Collecting multidict<7.0,>=4.5\n",
            "  Downloading multidict-6.0.2-cp37-cp37m-manylinux_2_17_x86_64.manylinux2014_x86_64.whl (94 kB)\n",
            "\u001b[K     |████████████████████████████████| 94 kB 3.3 MB/s \n",
            "\u001b[?25hRequirement already satisfied: idna>=2.0 in /usr/local/lib/python3.7/dist-packages (from yarl<2.0,>=1.0->aiohttp->gradio) (2.10)\n",
            "Requirement already satisfied: six>=1.5 in /usr/local/lib/python3.7/dist-packages (from analytics-python->gradio) (1.15.0)\n",
            "Collecting monotonic>=1.5\n",
            "  Downloading monotonic-1.6-py2.py3-none-any.whl (8.2 kB)\n",
            "Collecting backoff==1.10.0\n",
            "  Downloading backoff-1.10.0-py2.py3-none-any.whl (31 kB)\n",
            "Requirement already satisfied: python-dateutil>2.1 in /usr/local/lib/python3.7/dist-packages (from analytics-python->gradio) (2.8.2)\n",
            "Requirement already satisfied: urllib3!=1.25.0,!=1.25.1,<1.26,>=1.21.1 in /usr/local/lib/python3.7/dist-packages (from requests->gradio) (1.24.3)\n",
            "Requirement already satisfied: chardet<4,>=3.0.2 in /usr/local/lib/python3.7/dist-packages (from requests->gradio) (3.0.4)\n",
            "Requirement already satisfied: certifi>=2017.4.17 in /usr/local/lib/python3.7/dist-packages (from requests->gradio) (2021.10.8)\n",
            "Collecting pydantic!=1.7,!=1.7.1,!=1.7.2,!=1.7.3,!=1.8,!=1.8.1,<2.0.0,>=1.6.2\n",
            "  Downloading pydantic-1.9.0-cp37-cp37m-manylinux_2_17_x86_64.manylinux2014_x86_64.whl (10.9 MB)\n",
            "\u001b[K     |████████████████████████████████| 10.9 MB 30.4 MB/s \n",
            "\u001b[?25hCollecting starlette==0.17.1\n",
            "  Downloading starlette-0.17.1-py3-none-any.whl (58 kB)\n",
            "\u001b[K     |████████████████████████████████| 58 kB 4.7 MB/s \n",
            "\u001b[?25hCollecting anyio<4,>=3.0.0\n",
            "  Downloading anyio-3.5.0-py3-none-any.whl (79 kB)\n",
            "\u001b[K     |████████████████████████████████| 79 kB 7.5 MB/s \n",
            "\u001b[?25hCollecting sniffio>=1.1\n",
            "  Downloading sniffio-1.2.0-py3-none-any.whl (10 kB)\n",
            "Requirement already satisfied: MarkupSafe>=0.23 in /usr/local/lib/python3.7/dist-packages (from Jinja2->gradio) (2.0.1)\n",
            "Collecting mdurl~=0.1\n",
            "  Downloading mdurl-0.1.1-py3-none-any.whl (10 kB)\n",
            "Collecting mdit-py-plugins\n",
            "  Downloading mdit_py_plugins-0.3.0-py3-none-any.whl (43 kB)\n",
            "\u001b[K     |████████████████████████████████| 43 kB 2.1 MB/s \n",
            "\u001b[?25hCollecting linkify-it-py~=1.0\n",
            "  Downloading linkify_it_py-1.0.3-py3-none-any.whl (19 kB)\n",
            "Collecting uc-micro-py\n",
            "  Downloading uc_micro_py-1.0.1-py3-none-any.whl (6.2 kB)\n",
            "Requirement already satisfied: kiwisolver>=1.0.1 in /usr/local/lib/python3.7/dist-packages (from matplotlib->gradio) (1.4.2)\n",
            "Requirement already satisfied: pyparsing!=2.0.4,!=2.1.2,!=2.1.6,>=2.0.1 in /usr/local/lib/python3.7/dist-packages (from matplotlib->gradio) (3.0.8)\n",
            "Requirement already satisfied: cycler>=0.10 in /usr/local/lib/python3.7/dist-packages (from matplotlib->gradio) (0.11.0)\n",
            "Requirement already satisfied: pytz>=2017.3 in /usr/local/lib/python3.7/dist-packages (from pandas->gradio) (2022.1)\n",
            "Collecting cryptography>=2.5\n",
            "  Downloading cryptography-36.0.2-cp36-abi3-manylinux_2_24_x86_64.whl (3.6 MB)\n",
            "\u001b[K     |████████████████████████████████| 3.6 MB 30.7 MB/s \n",
            "\u001b[?25hCollecting bcrypt>=3.1.3\n",
            "  Downloading bcrypt-3.2.0-cp36-abi3-manylinux_2_17_x86_64.manylinux2014_x86_64.manylinux_2_24_x86_64.whl (61 kB)\n",
            "\u001b[K     |████████████████████████████████| 61 kB 465 kB/s \n",
            "\u001b[?25hCollecting pynacl>=1.0.1\n",
            "  Downloading PyNaCl-1.5.0-cp36-abi3-manylinux_2_17_x86_64.manylinux2014_x86_64.manylinux_2_24_x86_64.whl (856 kB)\n",
            "\u001b[K     |████████████████████████████████| 856 kB 41.6 MB/s \n",
            "\u001b[?25hRequirement already satisfied: cffi>=1.1 in /usr/local/lib/python3.7/dist-packages (from bcrypt>=3.1.3->paramiko->gradio) (1.15.0)\n",
            "Requirement already satisfied: pycparser in /usr/local/lib/python3.7/dist-packages (from cffi>=1.1->bcrypt>=3.1.3->paramiko->gradio) (2.21)\n",
            "Requirement already satisfied: click>=7.0 in /usr/local/lib/python3.7/dist-packages (from uvicorn->gradio) (7.1.2)\n",
            "Collecting asgiref>=3.4.0\n",
            "  Downloading asgiref-3.5.0-py3-none-any.whl (22 kB)\n",
            "Collecting h11>=0.8\n",
            "  Downloading h11-0.13.0-py3-none-any.whl (58 kB)\n",
            "\u001b[K     |████████████████████████████████| 58 kB 5.7 MB/s \n",
            "\u001b[?25hBuilding wheels for collected packages: ffmpy, python-multipart\n",
            "  Building wheel for ffmpy (setup.py) ... \u001b[?25l\u001b[?25hdone\n",
            "  Created wheel for ffmpy: filename=ffmpy-0.3.0-py3-none-any.whl size=4712 sha256=8e00e442e82bc877ecfc251c57669d81256a7b6f6449ecfc91e6bb5bb46eea4a\n",
            "  Stored in directory: /root/.cache/pip/wheels/13/e4/6c/e8059816e86796a597c6e6b0d4c880630f51a1fcfa0befd5e6\n",
            "  Building wheel for python-multipart (setup.py) ... \u001b[?25l\u001b[?25hdone\n",
            "  Created wheel for python-multipart: filename=python_multipart-0.0.5-py3-none-any.whl size=31678 sha256=b6071dfa0df2e013ea752f93f0da0781b1816f47af1b992bd3fcfa41b4df94b3\n",
            "  Stored in directory: /root/.cache/pip/wheels/2c/41/7c/bfd1c180534ffdcc0972f78c5758f89881602175d48a8bcd2c\n",
            "Successfully built ffmpy python-multipart\n",
            "Installing collected packages: sniffio, mdurl, uc-micro-py, multidict, markdown-it-py, frozenlist, anyio, yarl, starlette, pynacl, pydantic, monotonic, mdit-py-plugins, linkify-it-py, h11, cryptography, bcrypt, backoff, asynctest, async-timeout, asgiref, aiosignal, uvicorn, python-multipart, pydub, pycryptodome, paramiko, orjson, ffmpy, fastapi, analytics-python, aiohttp, gradio\n",
            "Successfully installed aiohttp-3.8.1 aiosignal-1.2.0 analytics-python-1.4.0 anyio-3.5.0 asgiref-3.5.0 async-timeout-4.0.2 asynctest-0.13.0 backoff-1.10.0 bcrypt-3.2.0 cryptography-36.0.2 fastapi-0.75.2 ffmpy-0.3.0 frozenlist-1.3.0 gradio-2.9.4 h11-0.13.0 linkify-it-py-1.0.3 markdown-it-py-2.1.0 mdit-py-plugins-0.3.0 mdurl-0.1.1 monotonic-1.6 multidict-6.0.2 orjson-3.6.8 paramiko-2.10.3 pycryptodome-3.14.1 pydantic-1.9.0 pydub-0.25.1 pynacl-1.5.0 python-multipart-0.0.5 sniffio-1.2.0 starlette-0.17.1 uc-micro-py-1.0.1 uvicorn-0.17.6 yarl-1.7.2\n"
          ]
        }
      ]
    },
    {
      "cell_type": "markdown",
      "source": [
        "###Loading and parsing the data"
      ],
      "metadata": {
        "id": "0udtfYzIk2-a"
      }
    },
    {
      "cell_type": "code",
      "source": [
        "text_file = \"/content/data.txt\""
      ],
      "metadata": {
        "id": "edGUc7ljLrjI"
      },
      "execution_count": null,
      "outputs": []
    },
    {
      "cell_type": "code",
      "source": [
        "with open(text_file) as f:\n",
        "    lines = f.read().split(\"\\n\")[:-1]\n",
        "text_pairs = []\n",
        "for line in lines:\n",
        "    eng, spa = line.split(\"\\t\")\n",
        "    spa = \"[start] \" + spa + \" [end]\"\n",
        "    text_pairs.append((eng, spa))"
      ],
      "metadata": {
        "id": "PVmJ_wWLL6nV"
      },
      "execution_count": null,
      "outputs": []
    },
    {
      "cell_type": "code",
      "source": [
        "for _ in range(5):\n",
        "    print(random.choice(text_pairs))"
      ],
      "metadata": {
        "colab": {
          "base_uri": "https://localhost:8080/"
        },
        "id": "sHKQqnj-L9G-",
        "outputId": "8fd9ae12-7667-40b3-be7a-c523b9568c6a"
      },
      "execution_count": null,
      "outputs": [
        {
          "output_type": "stream",
          "name": "stdout",
          "text": [
            "('Kwaku spends a lot of time with Abena.', '[start] Kwaku ne Abena di bere pii. [end]')\n",
            "(\"It's too early.\", '[start] Ɛnkyɛ koraa na aba. [end]')\n",
            "('I had some trouble in finding his house.', '[start] Ná ɛyɛ den ma me sɛ menya ne fie. [end]')\n",
            "('Kwaku has done it before.', '[start] Kwaku ayɛ saa pɛn. [end]')\n",
            "('He decided to come.', \"[start] Ɔyɛɛ n'adwene sɛ ɔbɛba. [end]\")\n"
          ]
        }
      ]
    },
    {
      "cell_type": "code",
      "source": [
        "random.shuffle(text_pairs)\n",
        "num_val_samples = int(0.15 * len(text_pairs))\n",
        "num_train_samples = len(text_pairs) - 2 * num_val_samples\n",
        "train_pairs = text_pairs[:num_train_samples]\n",
        "val_pairs = text_pairs[num_train_samples : num_train_samples + num_val_samples]\n",
        "test_pairs = text_pairs[num_train_samples + num_val_samples :]\n",
        "\n",
        "print(f\"{len(text_pairs)} total pairs\")\n",
        "print(f\"{len(train_pairs)} training pairs\")\n",
        "print(f\"{len(val_pairs)} validation pairs\")\n",
        "print(f\"{len(test_pairs)} test pairs\")"
      ],
      "metadata": {
        "colab": {
          "base_uri": "https://localhost:8080/"
        },
        "id": "3GQlHKsAL_Hc",
        "outputId": "ad313b1c-7573-480f-f21a-6ba7988edcef"
      },
      "execution_count": null,
      "outputs": [
        {
          "output_type": "stream",
          "name": "stdout",
          "text": [
            "25421 total pairs\n",
            "17795 training pairs\n",
            "3813 validation pairs\n",
            "3813 test pairs\n"
          ]
        }
      ]
    },
    {
      "cell_type": "markdown",
      "source": [
        "##Vectorization"
      ],
      "metadata": {
        "id": "ZIVZfPSmjy1C"
      }
    },
    {
      "cell_type": "code",
      "source": [
        "strip_chars = string.punctuation + \"¿\"\n",
        "strip_chars = strip_chars.replace(\"[\", \"\")\n",
        "strip_chars = strip_chars.replace(\"]\", \"\")\n",
        "\n",
        "vocab_size = 15000\n",
        "sequence_length = 20\n",
        "batch_size = 64\n",
        "\n",
        "\n",
        "def custom_standardization(input_string):\n",
        "    lowercase = tf.strings.lower(input_string)\n",
        "    return tf.strings.regex_replace(lowercase, \"[%s]\" % re.escape(strip_chars), \"\")\n",
        "\n",
        "\n",
        "eng_vectorization = TextVectorization(\n",
        "    max_tokens=vocab_size, output_mode=\"int\", output_sequence_length=sequence_length,\n",
        ")\n",
        "spa_vectorization = TextVectorization(\n",
        "    max_tokens=vocab_size,\n",
        "    output_mode=\"int\",\n",
        "    output_sequence_length=sequence_length + 1,\n",
        "    standardize=custom_standardization,\n",
        ")\n",
        "train_eng_texts = [pair[0] for pair in train_pairs]\n",
        "train_spa_texts = [pair[1] for pair in train_pairs]\n",
        "eng_vectorization.adapt(train_eng_texts)\n",
        "spa_vectorization.adapt(train_spa_texts)"
      ],
      "metadata": {
        "id": "cna_C4ZSMFxr"
      },
      "execution_count": null,
      "outputs": []
    },
    {
      "cell_type": "code",
      "source": [
        "\n",
        "def format_dataset(eng, spa):\n",
        "    eng = eng_vectorization(eng)\n",
        "    spa = spa_vectorization(spa)\n",
        "    return ({\"encoder_inputs\": eng, \"decoder_inputs\": spa[:, :-1],}, spa[:, 1:])\n",
        "\n",
        "\n",
        "def make_dataset(pairs):\n",
        "    eng_texts, spa_texts = zip(*pairs)\n",
        "    eng_texts = list(eng_texts)\n",
        "    spa_texts = list(spa_texts)\n",
        "    dataset = tf.data.Dataset.from_tensor_slices((eng_texts, spa_texts))\n",
        "    dataset = dataset.batch(batch_size)\n",
        "    dataset = dataset.map(format_dataset)\n",
        "    return dataset.shuffle(2048).prefetch(16).cache()\n",
        "\n",
        "\n",
        "train_ds = make_dataset(train_pairs)\n",
        "val_ds = make_dataset(val_pairs)"
      ],
      "metadata": {
        "id": "FJuO4iqdMItl"
      },
      "execution_count": null,
      "outputs": []
    },
    {
      "cell_type": "code",
      "source": [
        "for inputs, targets in train_ds.take(1):\n",
        "    print(f'inputs[\"encoder_inputs\"].shape: {inputs[\"encoder_inputs\"].shape}')\n",
        "    print(f'inputs[\"decoder_inputs\"].shape: {inputs[\"decoder_inputs\"].shape}')\n",
        "    print(f\"targets.shape: {targets.shape}\")"
      ],
      "metadata": {
        "colab": {
          "base_uri": "https://localhost:8080/"
        },
        "id": "Rna654zhMMCq",
        "outputId": "1d2ec973-516a-435a-e110-4d0c6a0382e1"
      },
      "execution_count": null,
      "outputs": [
        {
          "output_type": "stream",
          "name": "stdout",
          "text": [
            "inputs[\"encoder_inputs\"].shape: (64, 20)\n",
            "inputs[\"decoder_inputs\"].shape: (64, 20)\n",
            "targets.shape: (64, 20)\n"
          ]
        }
      ]
    },
    {
      "cell_type": "markdown",
      "source": [
        "##Building the model"
      ],
      "metadata": {
        "id": "5meD1LNKj4X0"
      }
    },
    {
      "cell_type": "code",
      "source": [
        "\n",
        "class TransformerEncoder(layers.Layer):\n",
        "    def __init__(self, embed_dim, dense_dim, num_heads, **kwargs):\n",
        "        super(TransformerEncoder, self).__init__(**kwargs)\n",
        "        self.embed_dim = embed_dim\n",
        "        self.dense_dim = dense_dim\n",
        "        self.num_heads = num_heads\n",
        "        self.attention = layers.MultiHeadAttention(\n",
        "            num_heads=num_heads, key_dim=embed_dim\n",
        "        )\n",
        "        self.dense_proj = keras.Sequential(\n",
        "            [layers.Dense(dense_dim, activation=\"relu\"), layers.Dense(embed_dim),]\n",
        "        )\n",
        "        self.layernorm_1 = layers.LayerNormalization()\n",
        "        self.layernorm_2 = layers.LayerNormalization()\n",
        "        self.supports_masking = True\n",
        "\n",
        "    def call(self, inputs, mask=None):\n",
        "        if mask is not None:\n",
        "            padding_mask = tf.cast(mask[:, tf.newaxis, tf.newaxis, :], dtype=\"int32\")\n",
        "        attention_output = self.attention(\n",
        "            query=inputs, value=inputs, key=inputs, attention_mask=padding_mask\n",
        "        )\n",
        "        proj_input = self.layernorm_1(inputs + attention_output)\n",
        "        proj_output = self.dense_proj(proj_input)\n",
        "        return self.layernorm_2(proj_input + proj_output)\n",
        "\n",
        "\n",
        "class PositionalEmbedding(layers.Layer):\n",
        "    def __init__(self, sequence_length, vocab_size, embed_dim, **kwargs):\n",
        "        super(PositionalEmbedding, self).__init__(**kwargs)\n",
        "        self.token_embeddings = layers.Embedding(\n",
        "            input_dim=vocab_size, output_dim=embed_dim\n",
        "        )\n",
        "        self.position_embeddings = layers.Embedding(\n",
        "            input_dim=sequence_length, output_dim=embed_dim\n",
        "        )\n",
        "        self.sequence_length = sequence_length\n",
        "        self.vocab_size = vocab_size\n",
        "        self.embed_dim = embed_dim\n",
        "\n",
        "    def call(self, inputs):\n",
        "        length = tf.shape(inputs)[-1]\n",
        "        positions = tf.range(start=0, limit=length, delta=1)\n",
        "        embedded_tokens = self.token_embeddings(inputs)\n",
        "        embedded_positions = self.position_embeddings(positions)\n",
        "        return embedded_tokens + embedded_positions\n",
        "\n",
        "    def compute_mask(self, inputs, mask=None):\n",
        "        return tf.math.not_equal(inputs, 0)\n",
        "\n",
        "\n",
        "class TransformerDecoder(layers.Layer):\n",
        "    def __init__(self, embed_dim, latent_dim, num_heads, **kwargs):\n",
        "        super(TransformerDecoder, self).__init__(**kwargs)\n",
        "        self.embed_dim = embed_dim\n",
        "        self.latent_dim = latent_dim\n",
        "        self.num_heads = num_heads\n",
        "        self.attention_1 = layers.MultiHeadAttention(\n",
        "            num_heads=num_heads, key_dim=embed_dim\n",
        "        )\n",
        "        self.attention_2 = layers.MultiHeadAttention(\n",
        "            num_heads=num_heads, key_dim=embed_dim\n",
        "        )\n",
        "        self.dense_proj = keras.Sequential(\n",
        "            [layers.Dense(latent_dim, activation=\"relu\"), layers.Dense(embed_dim),]\n",
        "        )\n",
        "        self.layernorm_1 = layers.LayerNormalization()\n",
        "        self.layernorm_2 = layers.LayerNormalization()\n",
        "        self.layernorm_3 = layers.LayerNormalization()\n",
        "        self.supports_masking = True\n",
        "\n",
        "    def call(self, inputs, encoder_outputs, mask=None):\n",
        "        causal_mask = self.get_causal_attention_mask(inputs)\n",
        "        if mask is not None:\n",
        "            padding_mask = tf.cast(mask[:, tf.newaxis, :], dtype=\"int32\")\n",
        "            padding_mask = tf.minimum(padding_mask, causal_mask)\n",
        "\n",
        "        attention_output_1 = self.attention_1(\n",
        "            query=inputs, value=inputs, key=inputs, attention_mask=causal_mask\n",
        "        )\n",
        "        out_1 = self.layernorm_1(inputs + attention_output_1)\n",
        "\n",
        "        attention_output_2 = self.attention_2(\n",
        "            query=out_1,\n",
        "            value=encoder_outputs,\n",
        "            key=encoder_outputs,\n",
        "            attention_mask=padding_mask,\n",
        "        )\n",
        "        out_2 = self.layernorm_2(out_1 + attention_output_2)\n",
        "\n",
        "        proj_output = self.dense_proj(out_2)\n",
        "        return self.layernorm_3(out_2 + proj_output)\n",
        "\n",
        "    def get_causal_attention_mask(self, inputs):\n",
        "        input_shape = tf.shape(inputs)\n",
        "        batch_size, sequence_length = input_shape[0], input_shape[1]\n",
        "        i = tf.range(sequence_length)[:, tf.newaxis]\n",
        "        j = tf.range(sequence_length)\n",
        "        mask = tf.cast(i >= j, dtype=\"int32\")\n",
        "        mask = tf.reshape(mask, (1, input_shape[1], input_shape[1]))\n",
        "        mult = tf.concat(\n",
        "            [tf.expand_dims(batch_size, -1), tf.constant([1, 1], dtype=tf.int32)],\n",
        "            axis=0,\n",
        "        )\n",
        "        return tf.tile(mask, mult)\n"
      ],
      "metadata": {
        "id": "zya15a0WMN9J"
      },
      "execution_count": null,
      "outputs": []
    },
    {
      "cell_type": "code",
      "source": [
        "embed_dim = 256\n",
        "latent_dim = 2048\n",
        "num_heads = 8\n",
        "\n",
        "encoder_inputs = keras.Input(shape=(None,), dtype=\"int64\", name=\"encoder_inputs\")\n",
        "x = PositionalEmbedding(sequence_length, vocab_size, embed_dim)(encoder_inputs)\n",
        "encoder_outputs = TransformerEncoder(embed_dim, latent_dim, num_heads)(x)\n",
        "encoder = keras.Model(encoder_inputs, encoder_outputs)\n",
        "\n",
        "decoder_inputs = keras.Input(shape=(None,), dtype=\"int64\", name=\"decoder_inputs\")\n",
        "encoded_seq_inputs = keras.Input(shape=(None, embed_dim), name=\"decoder_state_inputs\")\n",
        "x = PositionalEmbedding(sequence_length, vocab_size, embed_dim)(decoder_inputs)\n",
        "x = TransformerDecoder(embed_dim, latent_dim, num_heads)(x, encoded_seq_inputs)\n",
        "x = layers.Dropout(0.5)(x)\n",
        "decoder_outputs = layers.Dense(vocab_size, activation=\"softmax\")(x)\n",
        "decoder = keras.Model([decoder_inputs, encoded_seq_inputs], decoder_outputs)\n",
        "\n",
        "decoder_outputs = decoder([decoder_inputs, encoder_outputs])\n",
        "transformer = keras.Model(\n",
        "    [encoder_inputs, decoder_inputs], decoder_outputs, name=\"transformer\"\n",
        ")"
      ],
      "metadata": {
        "id": "bm_6xG_hMQBB"
      },
      "execution_count": null,
      "outputs": []
    },
    {
      "cell_type": "markdown",
      "source": [
        "##Training the model"
      ],
      "metadata": {
        "id": "yMNdLxRSkEK3"
      }
    },
    {
      "cell_type": "code",
      "source": [
        "epochs = 80 \n",
        "\n",
        "transformer.summary()\n",
        "transformer.compile(\n",
        "    \"rmsprop\", loss=\"sparse_categorical_crossentropy\", metrics=[\"accuracy\"]\n",
        ")\n",
        "transformer.fit(train_ds, epochs=epochs, validation_data=val_ds,)"
      ],
      "metadata": {
        "colab": {
          "base_uri": "https://localhost:8080/"
        },
        "id": "6BoUqB1dMSCS",
        "outputId": "e9b41681-f822-4863-b946-2e6f3e1a3b84"
      },
      "execution_count": null,
      "outputs": [
        {
          "output_type": "stream",
          "name": "stdout",
          "text": [
            "Model: \"transformer\"\n",
            "__________________________________________________________________________________________________\n",
            " Layer (type)                   Output Shape         Param #     Connected to                     \n",
            "==================================================================================================\n",
            " encoder_inputs (InputLayer)    [(None, None)]       0           []                               \n",
            "                                                                                                  \n",
            " positional_embedding (Position  (None, None, 256)   3845120     ['encoder_inputs[0][0]']         \n",
            " alEmbedding)                                                                                     \n",
            "                                                                                                  \n",
            " decoder_inputs (InputLayer)    [(None, None)]       0           []                               \n",
            "                                                                                                  \n",
            " transformer_encoder (Transform  (None, None, 256)   3155456     ['positional_embedding[0][0]']   \n",
            " erEncoder)                                                                                       \n",
            "                                                                                                  \n",
            " model_1 (Functional)           (None, None, 15000)  12959640    ['decoder_inputs[0][0]',         \n",
            "                                                                  'transformer_encoder[0][0]']    \n",
            "                                                                                                  \n",
            "==================================================================================================\n",
            "Total params: 19,960,216\n",
            "Trainable params: 19,960,216\n",
            "Non-trainable params: 0\n",
            "__________________________________________________________________________________________________\n",
            "Epoch 1/80\n",
            "279/279 [==============================] - 49s 134ms/step - loss: 2.2061 - accuracy: 0.2742 - val_loss: 1.8674 - val_accuracy: 0.3502\n",
            "Epoch 2/80\n",
            "279/279 [==============================] - 36s 130ms/step - loss: 1.8158 - accuracy: 0.3807 - val_loss: 1.6948 - val_accuracy: 0.4036\n",
            "Epoch 3/80\n",
            "279/279 [==============================] - 36s 129ms/step - loss: 1.6565 - accuracy: 0.4300 - val_loss: 1.6119 - val_accuracy: 0.4355\n",
            "Epoch 4/80\n",
            "279/279 [==============================] - 36s 129ms/step - loss: 1.5303 - accuracy: 0.4704 - val_loss: 1.5322 - val_accuracy: 0.4507\n",
            "Epoch 5/80\n",
            "279/279 [==============================] - 36s 129ms/step - loss: 1.4331 - accuracy: 0.5022 - val_loss: 1.4932 - val_accuracy: 0.4806\n",
            "Epoch 6/80\n",
            "279/279 [==============================] - 36s 129ms/step - loss: 1.3426 - accuracy: 0.5296 - val_loss: 1.4870 - val_accuracy: 0.4665\n",
            "Epoch 7/80\n",
            "279/279 [==============================] - 36s 128ms/step - loss: 1.2648 - accuracy: 0.5552 - val_loss: 1.4209 - val_accuracy: 0.4987\n",
            "Epoch 8/80\n",
            "279/279 [==============================] - 36s 129ms/step - loss: 1.1870 - accuracy: 0.5797 - val_loss: 1.4057 - val_accuracy: 0.5058\n",
            "Epoch 9/80\n",
            "279/279 [==============================] - 36s 128ms/step - loss: 1.1232 - accuracy: 0.5992 - val_loss: 1.4150 - val_accuracy: 0.5019\n",
            "Epoch 10/80\n",
            "279/279 [==============================] - 36s 128ms/step - loss: 1.0618 - accuracy: 0.6205 - val_loss: 1.4225 - val_accuracy: 0.5136\n",
            "Epoch 11/80\n",
            "279/279 [==============================] - 36s 128ms/step - loss: 1.0013 - accuracy: 0.6394 - val_loss: 1.4215 - val_accuracy: 0.5185\n",
            "Epoch 12/80\n",
            "279/279 [==============================] - 36s 128ms/step - loss: 0.9530 - accuracy: 0.6558 - val_loss: 1.3987 - val_accuracy: 0.5211\n",
            "Epoch 13/80\n",
            "279/279 [==============================] - 36s 128ms/step - loss: 0.9097 - accuracy: 0.6718 - val_loss: 1.4218 - val_accuracy: 0.5117\n",
            "Epoch 14/80\n",
            "279/279 [==============================] - 36s 128ms/step - loss: 0.8800 - accuracy: 0.6844 - val_loss: 1.4132 - val_accuracy: 0.5246\n",
            "Epoch 15/80\n",
            "279/279 [==============================] - 36s 128ms/step - loss: 0.8532 - accuracy: 0.6971 - val_loss: 1.4325 - val_accuracy: 0.5245\n",
            "Epoch 16/80\n",
            "279/279 [==============================] - 36s 128ms/step - loss: 0.8261 - accuracy: 0.7100 - val_loss: 1.4445 - val_accuracy: 0.5220\n",
            "Epoch 17/80\n",
            "279/279 [==============================] - 36s 128ms/step - loss: 0.8053 - accuracy: 0.7201 - val_loss: 1.4514 - val_accuracy: 0.5246\n",
            "Epoch 18/80\n",
            "279/279 [==============================] - 36s 128ms/step - loss: 0.7871 - accuracy: 0.7288 - val_loss: 1.4614 - val_accuracy: 0.5274\n",
            "Epoch 19/80\n",
            "279/279 [==============================] - 36s 128ms/step - loss: 0.7661 - accuracy: 0.7386 - val_loss: 1.4659 - val_accuracy: 0.5281\n",
            "Epoch 20/80\n",
            "279/279 [==============================] - 36s 128ms/step - loss: 0.7491 - accuracy: 0.7476 - val_loss: 1.4734 - val_accuracy: 0.5282\n",
            "Epoch 21/80\n",
            "279/279 [==============================] - 36s 128ms/step - loss: 0.7346 - accuracy: 0.7535 - val_loss: 1.4843 - val_accuracy: 0.5202\n",
            "Epoch 22/80\n",
            "279/279 [==============================] - 36s 128ms/step - loss: 0.7210 - accuracy: 0.7606 - val_loss: 1.4770 - val_accuracy: 0.5295\n",
            "Epoch 23/80\n",
            "279/279 [==============================] - 36s 128ms/step - loss: 0.7062 - accuracy: 0.7670 - val_loss: 1.4880 - val_accuracy: 0.5314\n",
            "Epoch 24/80\n",
            "279/279 [==============================] - 36s 129ms/step - loss: 0.6943 - accuracy: 0.7734 - val_loss: 1.5128 - val_accuracy: 0.5290\n",
            "Epoch 25/80\n",
            "279/279 [==============================] - 36s 128ms/step - loss: 0.6814 - accuracy: 0.7786 - val_loss: 1.5209 - val_accuracy: 0.5294\n",
            "Epoch 26/80\n",
            "279/279 [==============================] - 36s 128ms/step - loss: 0.6698 - accuracy: 0.7846 - val_loss: 1.5217 - val_accuracy: 0.5278\n",
            "Epoch 27/80\n",
            "279/279 [==============================] - 36s 128ms/step - loss: 0.6594 - accuracy: 0.7893 - val_loss: 1.5316 - val_accuracy: 0.5341\n",
            "Epoch 28/80\n",
            "279/279 [==============================] - 36s 129ms/step - loss: 0.6468 - accuracy: 0.7954 - val_loss: 1.5384 - val_accuracy: 0.5324\n",
            "Epoch 29/80\n",
            "279/279 [==============================] - 36s 128ms/step - loss: 0.6357 - accuracy: 0.7996 - val_loss: 1.5282 - val_accuracy: 0.5320\n",
            "Epoch 30/80\n",
            "279/279 [==============================] - 36s 128ms/step - loss: 0.6272 - accuracy: 0.8033 - val_loss: 1.5789 - val_accuracy: 0.5283\n",
            "Epoch 31/80\n",
            "279/279 [==============================] - 36s 128ms/step - loss: 0.6202 - accuracy: 0.8072 - val_loss: 1.5582 - val_accuracy: 0.5354\n",
            "Epoch 32/80\n",
            "279/279 [==============================] - 36s 128ms/step - loss: 0.6085 - accuracy: 0.8125 - val_loss: 1.5986 - val_accuracy: 0.5284\n",
            "Epoch 33/80\n",
            "279/279 [==============================] - 36s 129ms/step - loss: 0.6022 - accuracy: 0.8149 - val_loss: 1.5831 - val_accuracy: 0.5337\n",
            "Epoch 34/80\n",
            "279/279 [==============================] - 36s 128ms/step - loss: 0.5941 - accuracy: 0.8185 - val_loss: 1.5939 - val_accuracy: 0.5293\n",
            "Epoch 35/80\n",
            "279/279 [==============================] - 36s 128ms/step - loss: 0.5873 - accuracy: 0.8211 - val_loss: 1.5977 - val_accuracy: 0.5289\n",
            "Epoch 36/80\n",
            "279/279 [==============================] - 36s 128ms/step - loss: 0.5801 - accuracy: 0.8250 - val_loss: 1.5939 - val_accuracy: 0.5289\n",
            "Epoch 37/80\n",
            "279/279 [==============================] - 36s 128ms/step - loss: 0.5726 - accuracy: 0.8278 - val_loss: 1.6039 - val_accuracy: 0.5363\n",
            "Epoch 38/80\n",
            "279/279 [==============================] - 36s 128ms/step - loss: 0.5643 - accuracy: 0.8308 - val_loss: 1.6233 - val_accuracy: 0.5245\n",
            "Epoch 39/80\n",
            "279/279 [==============================] - 36s 129ms/step - loss: 0.5599 - accuracy: 0.8331 - val_loss: 1.6164 - val_accuracy: 0.5341\n",
            "Epoch 40/80\n",
            "279/279 [==============================] - 36s 128ms/step - loss: 0.5542 - accuracy: 0.8347 - val_loss: 1.6374 - val_accuracy: 0.5279\n",
            "Epoch 41/80\n",
            "279/279 [==============================] - 36s 128ms/step - loss: 0.5482 - accuracy: 0.8384 - val_loss: 1.6298 - val_accuracy: 0.5318\n",
            "Epoch 42/80\n",
            "279/279 [==============================] - 36s 128ms/step - loss: 0.5421 - accuracy: 0.8408 - val_loss: 1.6444 - val_accuracy: 0.5295\n",
            "Epoch 43/80\n",
            "279/279 [==============================] - 36s 128ms/step - loss: 0.5375 - accuracy: 0.8414 - val_loss: 1.6519 - val_accuracy: 0.5311\n",
            "Epoch 44/80\n",
            "279/279 [==============================] - 36s 128ms/step - loss: 0.5312 - accuracy: 0.8446 - val_loss: 1.6772 - val_accuracy: 0.5336\n",
            "Epoch 45/80\n",
            "279/279 [==============================] - 36s 128ms/step - loss: 0.5272 - accuracy: 0.8464 - val_loss: 1.6965 - val_accuracy: 0.5307\n",
            "Epoch 46/80\n",
            "279/279 [==============================] - 36s 128ms/step - loss: 0.5200 - accuracy: 0.8492 - val_loss: 1.6645 - val_accuracy: 0.5316\n",
            "Epoch 47/80\n",
            "279/279 [==============================] - 36s 128ms/step - loss: 0.5152 - accuracy: 0.8516 - val_loss: 1.6930 - val_accuracy: 0.5316\n",
            "Epoch 48/80\n",
            "279/279 [==============================] - 36s 128ms/step - loss: 0.5091 - accuracy: 0.8542 - val_loss: 1.7011 - val_accuracy: 0.5337\n",
            "Epoch 49/80\n",
            "279/279 [==============================] - 36s 128ms/step - loss: 0.5049 - accuracy: 0.8554 - val_loss: 1.6771 - val_accuracy: 0.5338\n",
            "Epoch 50/80\n",
            "279/279 [==============================] - 36s 129ms/step - loss: 0.4996 - accuracy: 0.8576 - val_loss: 1.7050 - val_accuracy: 0.5283\n",
            "Epoch 51/80\n",
            "279/279 [==============================] - 36s 128ms/step - loss: 0.4964 - accuracy: 0.8582 - val_loss: 1.7107 - val_accuracy: 0.5326\n",
            "Epoch 52/80\n",
            "279/279 [==============================] - 36s 128ms/step - loss: 0.4930 - accuracy: 0.8600 - val_loss: 1.7188 - val_accuracy: 0.5308\n",
            "Epoch 53/80\n",
            "279/279 [==============================] - 36s 128ms/step - loss: 0.4886 - accuracy: 0.8614 - val_loss: 1.7285 - val_accuracy: 0.5291\n",
            "Epoch 54/80\n",
            "279/279 [==============================] - 36s 128ms/step - loss: 0.4846 - accuracy: 0.8625 - val_loss: 1.7306 - val_accuracy: 0.5313\n",
            "Epoch 55/80\n",
            "279/279 [==============================] - 36s 128ms/step - loss: 0.4793 - accuracy: 0.8649 - val_loss: 1.7601 - val_accuracy: 0.5360\n",
            "Epoch 56/80\n",
            "279/279 [==============================] - 36s 128ms/step - loss: 0.4762 - accuracy: 0.8661 - val_loss: 1.7230 - val_accuracy: 0.5291\n",
            "Epoch 57/80\n",
            "279/279 [==============================] - 36s 128ms/step - loss: 0.4698 - accuracy: 0.8686 - val_loss: 1.7750 - val_accuracy: 0.5345\n",
            "Epoch 58/80\n",
            "279/279 [==============================] - 36s 128ms/step - loss: 0.4687 - accuracy: 0.8679 - val_loss: 1.7596 - val_accuracy: 0.5291\n",
            "Epoch 59/80\n",
            "279/279 [==============================] - 36s 128ms/step - loss: 0.4650 - accuracy: 0.8700 - val_loss: 1.7474 - val_accuracy: 0.5339\n",
            "Epoch 60/80\n",
            "279/279 [==============================] - 36s 128ms/step - loss: 0.4617 - accuracy: 0.8705 - val_loss: 1.7576 - val_accuracy: 0.5268\n",
            "Epoch 61/80\n",
            "279/279 [==============================] - 36s 128ms/step - loss: 0.4580 - accuracy: 0.8722 - val_loss: 1.7588 - val_accuracy: 0.5331\n",
            "Epoch 62/80\n",
            "279/279 [==============================] - 36s 128ms/step - loss: 0.4541 - accuracy: 0.8741 - val_loss: 1.8041 - val_accuracy: 0.5286\n",
            "Epoch 63/80\n",
            "279/279 [==============================] - 36s 128ms/step - loss: 0.4513 - accuracy: 0.8746 - val_loss: 1.7798 - val_accuracy: 0.5293\n",
            "Epoch 64/80\n",
            "279/279 [==============================] - 36s 128ms/step - loss: 0.4466 - accuracy: 0.8765 - val_loss: 1.8201 - val_accuracy: 0.5353\n",
            "Epoch 65/80\n",
            "279/279 [==============================] - 36s 128ms/step - loss: 0.4444 - accuracy: 0.8774 - val_loss: 1.8086 - val_accuracy: 0.5302\n",
            "Epoch 66/80\n",
            "279/279 [==============================] - 36s 128ms/step - loss: 0.4406 - accuracy: 0.8781 - val_loss: 1.8293 - val_accuracy: 0.5273\n",
            "Epoch 67/80\n",
            "279/279 [==============================] - 36s 128ms/step - loss: 0.4387 - accuracy: 0.8782 - val_loss: 1.8457 - val_accuracy: 0.5282\n",
            "Epoch 68/80\n",
            "279/279 [==============================] - 36s 127ms/step - loss: 0.4360 - accuracy: 0.8792 - val_loss: 1.7995 - val_accuracy: 0.5298\n",
            "Epoch 69/80\n",
            "279/279 [==============================] - 36s 128ms/step - loss: 0.4327 - accuracy: 0.8804 - val_loss: 1.8375 - val_accuracy: 0.5334\n",
            "Epoch 70/80\n",
            "279/279 [==============================] - 36s 128ms/step - loss: 0.4290 - accuracy: 0.8822 - val_loss: 1.8224 - val_accuracy: 0.5331\n",
            "Epoch 71/80\n",
            "279/279 [==============================] - 36s 128ms/step - loss: 0.4266 - accuracy: 0.8822 - val_loss: 1.8577 - val_accuracy: 0.5385\n",
            "Epoch 72/80\n",
            "279/279 [==============================] - 36s 128ms/step - loss: 0.4234 - accuracy: 0.8834 - val_loss: 1.8384 - val_accuracy: 0.5288\n",
            "Epoch 73/80\n",
            "279/279 [==============================] - 36s 128ms/step - loss: 0.4219 - accuracy: 0.8840 - val_loss: 1.8317 - val_accuracy: 0.5344\n",
            "Epoch 74/80\n",
            "279/279 [==============================] - 36s 128ms/step - loss: 0.4188 - accuracy: 0.8853 - val_loss: 1.8496 - val_accuracy: 0.5339\n",
            "Epoch 75/80\n",
            "279/279 [==============================] - 36s 128ms/step - loss: 0.4165 - accuracy: 0.8858 - val_loss: 1.8939 - val_accuracy: 0.5236\n",
            "Epoch 76/80\n",
            "279/279 [==============================] - 36s 128ms/step - loss: 0.4135 - accuracy: 0.8866 - val_loss: 1.8434 - val_accuracy: 0.5316\n",
            "Epoch 77/80\n",
            "279/279 [==============================] - 35s 127ms/step - loss: 0.4128 - accuracy: 0.8866 - val_loss: 1.8795 - val_accuracy: 0.5329\n",
            "Epoch 78/80\n",
            "279/279 [==============================] - 35s 127ms/step - loss: 0.4101 - accuracy: 0.8879 - val_loss: 1.8593 - val_accuracy: 0.5371\n",
            "Epoch 79/80\n",
            "279/279 [==============================] - 36s 127ms/step - loss: 0.4071 - accuracy: 0.8887 - val_loss: 1.8539 - val_accuracy: 0.5321\n",
            "Epoch 80/80\n",
            "279/279 [==============================] - 35s 127ms/step - loss: 0.4041 - accuracy: 0.8894 - val_loss: 1.8945 - val_accuracy: 0.5344\n"
          ]
        },
        {
          "output_type": "execute_result",
          "data": {
            "text/plain": [
              "<keras.callbacks.History at 0x7f42107518d0>"
            ]
          },
          "metadata": {},
          "execution_count": 13
        }
      ]
    },
    {
      "cell_type": "markdown",
      "source": [
        "##function for decoding test sentences "
      ],
      "metadata": {
        "id": "TFm3h-pJkSvg"
      }
    },
    {
      "cell_type": "code",
      "source": [
        "spa_vocab = spa_vectorization.get_vocabulary()\n",
        "spa_index_lookup = dict(zip(range(len(spa_vocab)), spa_vocab))\n",
        "max_decoded_sentence_length = 20\n",
        "\n",
        "\n",
        "def decode_sequence(input_sentence):\n",
        "    tokenized_input_sentence = eng_vectorization([input_sentence])\n",
        "    decoded_sentence = \"[start]\"\n",
        "    for i in range(max_decoded_sentence_length):\n",
        "        tokenized_target_sentence = spa_vectorization([decoded_sentence])[:, :-1]\n",
        "        predictions = transformer([tokenized_input_sentence, tokenized_target_sentence])\n",
        "\n",
        "        sampled_token_index = np.argmax(predictions[0, i, :])\n",
        "        sampled_token = spa_index_lookup[sampled_token_index]\n",
        "        decoded_sentence += \" \" + sampled_token\n",
        "        \n",
        "        query = decoded_sentence\n",
        "        stopwords = ['[start]', '[end]']\n",
        "        querywords = query.split()\n",
        "\n",
        "        resultwords  = [word for word in querywords if word.lower() not in stopwords]\n",
        "        decoded_sentence = ' '.join(resultwords)\n",
        "\n",
        "        if sampled_token == \"[end]\":\n",
        "            break\n",
        "        query = decoded_sentence\n",
        "        stopwords = ['[start]', '[end]']\n",
        "        querywords = query.split()\n",
        "\n",
        "        resultwords  = [word for word in querywords if word.lower() not in stopwords]\n",
        "        decoded_sentence = ' '.join(resultwords)\n",
        "    return decoded_sentence\n",
        "\n",
        "\n",
        "test_eng_texts = [pair[0] for pair in test_pairs]\n",
        "for _ in range(30):\n",
        "    input_sentence = random.choice(test_eng_texts)\n",
        "    translated = decode_sequence(input_sentence)"
      ],
      "metadata": {
        "id": "b9bv7AnoMU0d"
      },
      "execution_count": null,
      "outputs": []
    },
    {
      "cell_type": "markdown",
      "source": [
        "##Creating the interface"
      ],
      "metadata": {
        "id": "SYZnXK-lkZRu"
      }
    },
    {
      "cell_type": "code",
      "source": [
        "import gradio as gr\n",
        "\n",
        "iface = gr.Interface(fn=decode_sequence, inputs=gr.inputs.Textbox(lines=2, \n",
        "                     placeholder=\"English\"),\n",
        "                     outputs=\"text\",\n",
        "                     title=\"English-Twi Machine Translation\",\n",
        "                     description=\"English to Twi translation with a sequence-to-sequence Transformer\",)\n",
        "iface.launch()"
      ],
      "metadata": {
        "colab": {
          "base_uri": "https://localhost:8080/",
          "height": 643
        },
        "id": "XZiUNncUanaX",
        "outputId": "226fdf2e-9dcc-4f10-e70b-03cd9a1832e3"
      },
      "execution_count": null,
      "outputs": [
        {
          "output_type": "stream",
          "name": "stdout",
          "text": [
            "Colab notebook detected. To show errors in colab notebook, set `debug=True` in `launch()`\n",
            "Running on public URL: https://16881.gradio.app\n",
            "\n",
            "This share link expires in 72 hours. For free permanent hosting, check out Spaces (https://huggingface.co/spaces)\n"
          ]
        },
        {
          "output_type": "display_data",
          "data": {
            "text/plain": [
              "<IPython.lib.display.IFrame at 0x7f417b910d50>"
            ],
            "text/html": [
              "\n",
              "        <iframe\n",
              "            width=\"900\"\n",
              "            height=\"500\"\n",
              "            src=\"https://16881.gradio.app\"\n",
              "            frameborder=\"0\"\n",
              "            allowfullscreen\n",
              "        ></iframe>\n",
              "        "
            ]
          },
          "metadata": {}
        },
        {
          "output_type": "execute_result",
          "data": {
            "text/plain": [
              "(<fastapi.applications.FastAPI at 0x7f417db0f3d0>,\n",
              " 'http://127.0.0.1:7860/',\n",
              " 'https://16881.gradio.app')"
            ]
          },
          "metadata": {},
          "execution_count": 15
        }
      ]
    },
    {
      "cell_type": "code",
      "source": [
        ""
      ],
      "metadata": {
        "id": "TtaLzsDRtOX8"
      },
      "execution_count": null,
      "outputs": []
    }
  ]
}